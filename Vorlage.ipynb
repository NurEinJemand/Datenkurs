{
 "cells": [
  {
   "cell_type": "markdown",
   "metadata": {},
   "source": [
    "Überall wo dieses Zeichen: %%% ist, musst du etwas selber machen. Lies dir die Erklärung/Anleitung (in grün) sorgfältig durch und frag, falls du Probleme haben solltest, die Kursleiterin oder den Kursleiter. Wenn du mit dem letzten Teil, also Teil 3 fertig bist, kannst du das Programm ausführen."
   ]
  },
  {
   "cell_type": "code",
   "execution_count": null,
   "metadata": {},
   "outputs": [],
   "source": [
    "#Wichtige Module, die man braucht, um das Programm auszuführen.\n",
    "import pytube\n",
    "from pytube import Search\n",
    "import time\n",
    "from datetime import datetime\n",
    "import numpy as np\n",
    "import pandas as pd"
   ]
  },
  {
   "cell_type": "markdown",
   "metadata": {},
   "source": [
    "Teil 1 - Suchanfrage und Eigenschaften"
   ]
  },
  {
   "cell_type": "code",
   "execution_count": null,
   "metadata": {},
   "outputs": [],
   "source": [
    "#Hier wird die leere Liste \"eigenschaften\" erstellt, die später die Ergebnisse des Programms speichern.\n",
    "eigenschaften = []\n",
    "\n",
    "#Damit wird deine Suche ausgeführt. Füge deine Suchwort zwischen '' ein.\n",
    "s = Search('%%%')\n",
    "#In der Variable \"ergebnis\" wird das Ergebnis deiner Suchanfrage gespeichert.\n",
    "ergebnis = s.results\n",
    "\n",
    "#Mit dieser sogenannten For-Schleife, kann eine bestimmte Funktion beliebig oft wiederholt werden. \n",
    "#In dieser Schleife werden die Eigenschaften: Titel, Länge und Aufrufe \n",
    "#jedes der Videos deiner Suchanfrage in die Liste \"eigenschaften\" gepackt.\n",
    "for i in range(len(ergebnis)):\n",
    "    string = ergebnis[i]\n",
    "    eigenschaften = eigenschaften + [[string.title, string.length, string.views, string.video_id]]\n",
    "\n",
    "#Mithilfe dieser 3 Zeilen werden die Eigenschaften, die in der Schleife davor herausgefunden wurden, in einer Datei\n",
    "#namens \"Suchanfrage.csv\" gespeichert.\n",
    "eigenschaften = np.array(eigenschaften)\n",
    "DF = pd.DataFrame(eigenschaften)\n",
    "DF.to_csv(\"Suchanfrage.csv\", header=['Titel', 'Länge in Sekunden', 'Aufrufe', 'ID'])"
   ]
  },
  {
   "cell_type": "markdown",
   "metadata": {},
   "source": [
    "Teil 2 - Datensatz aus Aufrufen"
   ]
  },
  {
   "cell_type": "code",
   "execution_count": null,
   "metadata": {},
   "outputs": [],
   "source": [
    "#Hier werden verschiedene leere Listen erstellt, die später die Ergebnisse des Programms speichern.\n",
    "x = []\n",
    "y1 = []\n",
    "y2 = []\n",
    "\n",
    "#Diese for-Schleife lässt das Programm über einen bestimmten Zeitraum schlafen.\n",
    "#Du kannst mithilfe der Funktion range() (das bedeutet Bereich auf Englisch) einstellen, wie oft die Schleife laufen soll. \n",
    "#Das machst du, indem du eine Zahl (die Anzahl der Wiederholungen) zwischen die Klammern nach der range()-Funktion schreibst.\n",
    "#Jetzt du: Stell ein, dass die Schleife 60mal wiederholt wird.\n",
    "for i in range(%%%):\n",
    "\n",
    "    if i > 0:\n",
    "        #Mithilfe von time.sleep() kann das Programm \"schlafen\" gelegt werden - es wartet dann eine bstimmte Zeit ab, bevor\n",
    "        #es weiter läuft. Wie lange es schlafen soll, kann in der Klammer festgelegt werden. Die Einheit ist Sekunden:\n",
    "        #Jetzt du: Lass das Programm für 10 Sekunden schlafen.\n",
    "        time.sleep(%%%)\n",
    "\n",
    "    #Nach dem = kommen die IDs der Videos, die du gefunden hast. Die IDs sind in der Datei, die im 1. Teil am Ende gespeichert wurde. \n",
    "    Video1 = pytube.YouTube(url='https://www.youtube.com/watch?v=%%%')\n",
    "    Video2 = pytube.YouTube(url='https://www.youtube.com/watch?v=%%%')\n",
    "\n",
    "    #Oben hast du eingestellt, wie oft die SChleife laufen soll. Das i sagt der Schleife, wie oft sie noch laufen muss.\n",
    "    i = i + 1\n",
    "  \n",
    "    #Mithilfe von .views, werden die Aufrufe deines Videos abgefragt - jedes Mal wenn die Schleife neu läuft, wird ein \n",
    "    #weiterer Wert hinzugefügt.\n",
    "    y1 = y1 + [Video1.views]\n",
    "    y2 = y2 + [Video2.views]\n",
    "    x = x + [time.time()]\n",
    "\n",
    "#Hier werden die Listen, die deine Ergebnisse enthalten, in eine Datei gespeichert. Damit kannst du dann später arbeiten.\n",
    "yArrayF = [x] + [y1] + [y2]\n",
    "yArrayF = np.array(yArrayF)\n",
    "yArrayF = yArrayF.transpose()\n",
    "DF = pd.DataFrame(yArrayF)\n",
    "DF.to_csv(\"DatenYTVideos.csv\", header=['Zeit', Video1.title, Video2.title]) "
   ]
  },
  {
   "cell_type": "code",
   "execution_count": null,
   "metadata": {},
   "outputs": [],
   "source": [
    "Teil 3 - Plotten!"
   ]
  },
  {
   "cell_type": "code",
   "execution_count": null,
   "metadata": {},
   "outputs": [],
   "source": [
    "#Jetzt wird geplottet! In den nächsten Zeilen werden die Daten, die du gesammelt hast, heruntergeladen und mithilfe eines\n",
    "#Moduls in ein Liniendiagramm verarbeitet. \n",
    "p = pd.read_csv('DatenYTVideos.csv')\n",
    "p.plot.line(y=2, x=1)\n",
    "p.plot.line(y=3, x=1)"
   ]
  },
  {
   "cell_type": "markdown",
   "metadata": {},
   "source": [
    "Was kannst du erkennen, wenn du die Diagramme anschaust? \n",
    "Hat das Video mehr Aufrufe bekommen? \n",
    "Wieso kann die Linie theoretisch gar nicht nach unten verlaufen? "
   ]
  }
 ],
 "metadata": {
  "kernelspec": {
   "display_name": "Python 3.10.6 64-bit (windows store)",
   "language": "python",
   "name": "python3"
  },
  "language_info": {
   "codemirror_mode": {
    "name": "ipython",
    "version": 3
   },
   "file_extension": ".py",
   "mimetype": "text/x-python",
   "name": "python",
   "nbconvert_exporter": "python",
   "pygments_lexer": "ipython3",
   "version": "3.10.6"
  },
  "orig_nbformat": 4,
  "vscode": {
   "interpreter": {
    "hash": "f75bdedb7fe3c59d4c80970252d758184ea6e9bbf1962de915bc3e21c6253451"
   }
  }
 },
 "nbformat": 4,
 "nbformat_minor": 2
}

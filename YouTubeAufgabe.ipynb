{
 "cells": [
  {
   "cell_type": "markdown",
   "metadata": {},
   "source": [
    "Importiere zusätzlich die Module: Pandas, Numpy, time, pytube\n".
    "Mithilfe von \"import *modul* as *name*\" kann man das Aufrufen eines Moduls vereinfachen. Stelle ein, dass Pandas als pd und Numpy als np aufgerufen werden kann."
   ]
  },
  {
   "cell_type": "code",
   "execution_count": null,
   "metadata": {},
   "outputs": [],
   "source": [
    "from pytube import Search\n",
    "from datetime import datetime"
   ]
  },
  {
   "cell_type": "markdown",
   "metadata": {},
   "source": [
    "Teil 1 - Suchanfrage und Eigenschaften"
   ]
  },
  {
   "cell_type": "code",
   "execution_count": null,
   "metadata": {},
   "outputs": [],
   "source": [
    "# Erstelle eine leere Liste \"eigenschaften\". \n",
    "\n",
    "# Führe eine Suche mit Search durch und speichere das Suchergebnis unter \"ergebnis\".\n",
    "\n",
    "#Damit wird deine Suche ausgeführt. Füge deine Suchwort zwischen '' ein.\n",
    "\n",
    "#Mit dieser sogenannten For-Schleife, kann eine bestimmte Funktion beliebig oft wiederholt werden. \n",
    "#In dieser Schleife werden die Eigenschaften: Titel, Länge und Aufrufe \n",
    "#jedes der Videos deiner Suchanfrage in die Liste \"eigenschaften\" gepackt.\n",
    "for i in range(len(ergebnis)): # --> Selber machen lassen?\n",
    "    video = ergebnis[i]\n",
    "    eigenschaften.append([video.title, video.length, video.views, video.video_id])\n",
    "\n",
    "#Mithilfe dieser 3 Zeilen werden die Eigenschaften, die in der Schleife davor herausgefunden wurden, in einer Datei\n",
    "#namens \"Suchanfrage.csv\" gespeichert.\n",
    "eigenschaften = np.array(eigenschaften)\n",
    "DF = pd.DataFrame(eigenschaften)\n",
    "DF.to_csv(\"Suchanfrage.csv\", header=['Titel', 'Länge in Sekunden', 'Aufrufe', 'ID'])"
   ]
  },
  {
   "cell_type": "markdown",
   "metadata": {},
   "source": [
    "Teil 2 - Datensatz aus Aufrufen"
   ]
  },
  {
   "cell_type": "markdown",
   "metadata": {},
   "source": []
  },
  {
   "cell_type": "code",
   "execution_count": null,
   "metadata": {},
   "outputs": [],
   "source": [
    "# Erstelle 3 Listen: \"zeit\", \"aufrufe_video1\", \"aufrufe_video2\".\n",
    "\n",
    "#Diese for-Schleife lässt das Programm über einen bestimmten Zeitraum schlafen.\n",
    "#Du kannst mithilfe der Funktion range() (das bedeutet Bereich auf Englisch) einstellen, wie oft die Schleife laufen soll. \n",
    "#Das machst du, indem du eine Zahl (die Anzahl der Wiederholungen) zwischen die Klammern nach der range()-Funktion schreibst.\n",
    "#Jetzt du: Stell ein, dass die Schleife 60mal wiederholt wird.\n",
    "for i in range():\n",
    "\n",
    "    if i > 0:\n",
    "        #Mithilfe von time.sleep() kann das Programm \"schlafen\" gelegt werden - es wartet dann eine bstimmte Zeit ab, bevor\n",
    "        #es weiter läuft. Wie lange es schlafen soll, kann in der Klammer festgelegt werden. Die Einheit ist Sekunden:\n",
    "        #Jetzt du: Lass das Programm für 10 Sekunden schlafen.\n",
    "        time.sleep()\n",
    "\n",
    "    #Nach dem = kommen die IDs der Videos, die du gefunden hast. Die IDs sind in der Datei, die im 1. Teil am Ende gespeichert wurde. \n",
    "    Video1 = pytube.YouTube(url='https://www.youtube.com/watch?v=')\n",
    "    Video2 = pytube.YouTube(url='https://www.youtube.com/watch?v=')\n",
    "\n",
    "    #Oben hast du eingestellt, wie oft die SChleife laufen soll. Das i sagt der Schleife, wie oft sie noch laufen muss.\n",
    "    i = i + 1\n",
    "  \n",
    "    # Wie oben wollen wir die Listen mit Inhalt füllen. Speichere für jede Widerholung der SChleife die zugehörige\n",
    "    # Anzahl an Views in den Listen \"aufrufe_video1\" und \"aufrufe_video2\".\n",
    "    zeit.append(time.time())\n",
    "\n",
    "#Hier werden die Listen, die deine Ergebnisse enthalten, in eine Datei gespeichert. Damit kannst du dann später arbeiten.\n",
    "DatenArray = [zeit] + [aufrufe_video1] + [aufrufe_video2]\n",
    "DatenArray = np.array(DatenArray)\n",
    "DatenArray = DatenArray.transpose()\n",
    "df = pd.DataFrame(DatenArray)\n",
    "df.to_csv(\"DatenYTVideos.csv\", header=['Zeit', Video1.title, Video2.title]) "
   ]
  },
  {
   "cell_type": "markdown",
   "metadata": {},
   "source": [
    "Erstelle für jedes Video ein Plot mithilfe von Matplotlib. Auf der x-Achse soll die Zeit und auf der y-Achse die Aufrufe gezeigt werden.\n"
   ]
  },
  {
   "cell_type": "markdown",
   "metadata": {},
   "source": [
    "Liste direkt in DF\n",
    "Zwischenschritte zeigen --> Variablenwert etc."
   ]
  }
 ],
 "metadata": {
  "kernelspec": {
   "display_name": "Python 3.10.6 64-bit (windows store)",
   "language": "python",
   "name": "python3"
  },
  "language_info": {
   "codemirror_mode": {
    "name": "ipython",
    "version": 3
   },
   "file_extension": ".py",
   "mimetype": "text/x-python",
   "name": "python",
   "nbconvert_exporter": "python",
   "pygments_lexer": "ipython3",
   "version": "3.10.7"
  },
  "orig_nbformat": 4,
  "vscode": {
   "interpreter": {
    "hash": "f75bdedb7fe3c59d4c80970252d758184ea6e9bbf1962de915bc3e21c6253451"
   }
  }
 },
 "nbformat": 4,
 "nbformat_minor": 2
}
